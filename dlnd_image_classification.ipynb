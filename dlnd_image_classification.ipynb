{
 "cells": [
  {
   "cell_type": "code",
   "execution_count": 1,
   "metadata": {
    "collapsed": true
   },
   "outputs": [],
   "source": [
    "__author__ = \"Vikash Khanna\"\n",
    "__email__  = \"vcashk@gmail.com\""
   ]
  },
  {
   "cell_type": "markdown",
   "metadata": {
    "collapsed": true
   },
   "source": [
    "# Image Classification\n",
    "In this project, you'll classify images from the [CIFAR-10 dataset](https://www.cs.toronto.edu/~kriz/cifar.html).  The dataset consists of airplanes, dogs, cats, and other objects. You'll preprocess the images, then train a convolutional neural network on all the samples. The images need to be normalized and the labels need to be one-hot encoded.  You'll get to apply what you learned and build a convolutional, max pooling, dropout, and fully connected layers.  At the end, you'll get to see your neural network's predictions on the sample images.\n",
    "## Get the Data\n",
    "Run the following cell to download the [CIFAR-10 dataset for python](https://www.cs.toronto.edu/~kriz/cifar-10-python.tar.gz)."
   ]
  },
  {
   "cell_type": "code",
   "execution_count": 2,
   "metadata": {
    "collapsed": false
   },
   "outputs": [
    {
     "name": "stdout",
     "output_type": "stream",
     "text": [
      "All files found!\n"
     ]
    }
   ],
   "source": [
    "\"\"\"\n",
    "DON'T MODIFY ANYTHING IN THIS CELL THAT IS BELOW THIS LINE\n",
    "\"\"\"\n",
    "from urllib.request import urlretrieve\n",
    "from os.path import isfile, isdir\n",
    "from tqdm import tqdm\n",
    "import problem_unittests as tests\n",
    "import tarfile\n",
    "\n",
    "cifar10_dataset_folder_path = 'cifar-10-batches-py'\n",
    "\n",
    "class DLProgress(tqdm):\n",
    "    last_block = 0\n",
    "\n",
    "    def hook(self, block_num=1, block_size=1, total_size=None):\n",
    "        self.total = total_size\n",
    "        self.update((block_num - self.last_block) * block_size)\n",
    "        self.last_block = block_num\n",
    "\n",
    "if not isfile('cifar-10-python.tar.gz'):\n",
    "    with DLProgress(unit='B', unit_scale=True, miniters=1, desc='CIFAR-10 Dataset') as pbar:\n",
    "        urlretrieve(\n",
    "            'https://www.cs.toronto.edu/~kriz/cifar-10-python.tar.gz',\n",
    "            'cifar-10-python.tar.gz',\n",
    "            pbar.hook)\n",
    "\n",
    "if not isdir(cifar10_dataset_folder_path):\n",
    "    with tarfile.open('cifar-10-python.tar.gz') as tar:\n",
    "        tar.extractall()\n",
    "        tar.close()\n",
    "\n",
    "\n",
    "tests.test_folder_path(cifar10_dataset_folder_path)"
   ]
  },
  {
   "cell_type": "markdown",
   "metadata": {},
   "source": [
    "## Explore the Data\n",
    "The dataset is broken into batches to prevent your machine from running out of memory.  The CIFAR-10 dataset consists of 5 batches, named `data_batch_1`, `data_batch_2`, etc.. Each batch contains the labels and images that are one of the following:\n",
    "* airplane\n",
    "* automobile\n",
    "* bird\n",
    "* cat\n",
    "* deer\n",
    "* dog\n",
    "* frog\n",
    "* horse\n",
    "* ship\n",
    "* truck\n",
    "\n",
    "Understanding a dataset is part of making predictions on the data.  Play around with the code cell below by changing the `batch_id` and `sample_id`. The `batch_id` is the id for a batch (1-5). The `sample_id` is the id for a image and label pair in the batch.\n",
    "\n",
    "Ask yourself \"What are all possible labels?\", \"What is the range of values for the image data?\", \"Are the labels in order or random?\".  Answers to questions like these will help you preprocess the data and end up with better predictions."
   ]
  },
  {
   "cell_type": "code",
   "execution_count": 3,
   "metadata": {
    "collapsed": false
   },
   "outputs": [
    {
     "name": "stdout",
     "output_type": "stream",
     "text": [
      "\n",
      "Stats of batch 1:\n",
      "Samples: 10000\n",
      "Label Counts: {0: 1005, 1: 974, 2: 1032, 3: 1016, 4: 999, 5: 937, 6: 1030, 7: 1001, 8: 1025, 9: 981}\n",
      "First 20 Labels: [6, 9, 9, 4, 1, 1, 2, 7, 8, 3, 4, 7, 7, 2, 9, 9, 9, 3, 2, 6]\n",
      "\n",
      "Example of Image 7:\n",
      "Image - Min Value: 9 Max Value: 248\n",
      "Image - Shape: (32, 32, 3)\n",
      "Label - Label Id: 7 Name: horse\n"
     ]
    },
    {
     "data": {
      "image/png": "[encoded data removed]",
      "text/plain": [
       "<matplotlib.figure.Figure at 0x119890518>"
      ]
     },
     "metadata": {
      "image/png": {
       "height": 250,
       "width": 253
      }
     },
     "output_type": "display_data"
    }
   ],
   "source": [
    "%matplotlib inline\n",
    "%config InlineBackend.figure_format = 'retina'\n",
    "\n",
    "import helper\n",
    "import numpy as np\n",
    "\n",
    "# Explore the dataset\n",
    "batch_id = 1\n",
    "sample_id = 7\n",
    "helper.display_stats(cifar10_dataset_folder_path, batch_id, sample_id)"
   ]
  },
  {
   "cell_type": "markdown",
   "metadata": {},
   "source": [
    "## Implement Preprocess Functions\n",
    "### Normalize\n",
    "In the cell below, implement the `normalize` function to take in image data, `x`, and return it as a normalized Numpy array. The values should be in the range of 0 to 1, inclusive.  The return object should be the same shape as `x`."
   ]
  },
  {
   "cell_type": "code",
   "execution_count": 4,
   "metadata": {
    "collapsed": false
   },
   "outputs": [
    {
     "name": "stdout",
     "output_type": "stream",
     "text": [
      "Tests Passed\n"
     ]
    }
   ],
   "source": [
    "def normalize(x):\n",
    "    \"\"\"\n",
    "    Normalize a list of sample image data in the range of 0 to 1\n",
    "    : x: List of image data.  The image shape is (32, 32, 3)\n",
    "    : return: Numpy array of normalize data\n",
    "    \"\"\"\n",
    "    # TODO: Implement Function\n",
    "    return x/255\n",
    "\n",
    "\n",
    "\"\"\"\n",
    "DON'T MODIFY ANYTHING IN THIS CELL THAT IS BELOW THIS LINE\n",
    "\"\"\"\n",
    "tests.test_normalize(normalize)"
   ]
  },
  {
   "cell_type": "markdown",
   "metadata": {},
   "source": [
    "### One-hot encode\n",
    "Just like the previous code cell, you'll be implementing a function for preprocessing.  This time, you'll implement the `one_hot_encode` function. The input, `x`, are a list of labels.  Implement the function to return the list of labels as One-Hot encoded Numpy array.  The possible values for labels are 0 to 9. The one-hot encoding function should return the same encoding for each value between each call to `one_hot_encode`.  Make sure to save the map of encodings outside the function.\n",
    "\n",
    "Hint: Don't reinvent the wheel."
   ]
  },
  {
   "cell_type": "code",
   "execution_count": 5,
   "metadata": {
    "collapsed": false
   },
   "outputs": [
    {
     "name": "stdout",
     "output_type": "stream",
     "text": [
      "Tests Passed\n"
     ]
    }
   ],
   "source": [
    "from sklearn.preprocessing import LabelBinarizer\n",
    "encoder = LabelBinarizer()\n",
    "encoder.fit(range(10))\n",
    "\n",
    "def one_hot_encode(x):\n",
    "    \"\"\"\n",
    "    One hot encode a list of sample labels. Return a one-hot encoded vector for each label.\n",
    "    : x: List of sample Labels\n",
    "    : return: Numpy array of one-hot encoded labels\n",
    "    \"\"\"\n",
    "    # TODO: Implement Function\n",
    "    return encoder.transform(x)\n",
    "    \n",
    "\n",
    "\n",
    "\"\"\"\n",
    "DON'T MODIFY ANYTHING IN THIS CELL THAT IS BELOW THIS LINE\n",
    "\"\"\"\n",
    "tests.test_one_hot_encode(one_hot_encode)"
   ]
  },
  {
   "cell_type": "markdown",
   "metadata": {},
   "source": [
    "### Randomize Data\n",
    "As you saw from exploring the data above, the order of the samples are randomized.  It doesn't hurt to randomize it again, but you don't need to for this dataset."
   ]
  },
  {
   "cell_type": "markdown",
   "metadata": {},
   "source": [
    "## Preprocess all the data and save it\n",
    "Running the code cell below will preprocess all the CIFAR-10 data and save it to file. The code below also uses 10% of the training data for validation."
   ]
  },
  {
   "cell_type": "code",
   "execution_count": 6,
   "metadata": {
    "collapsed": false
   },
   "outputs": [],
   "source": [
    "\"\"\"\n",
    "DON'T MODIFY ANYTHING IN THIS CELL\n",
    "\"\"\"\n",
    "# Preprocess Training, Validation, and Testing Data\n",
    "helper.preprocess_and_save_data(cifar10_dataset_folder_path, normalize, one_hot_encode)"
   ]
  },
  {
   "cell_type": "markdown",
   "metadata": {},
   "source": [
    "# Check Point\n",
    "This is your first checkpoint.  If you ever decide to come back to this notebook or have to restart the notebook, you can start from here.  The preprocessed data has been saved to disk."
   ]
  },
  {
   "cell_type": "code",
   "execution_count": 7,
   "metadata": {
    "collapsed": true
   },
   "outputs": [],
   "source": [
    "\"\"\"\n",
    "DON'T MODIFY ANYTHING IN THIS CELL\n",
    "\"\"\"\n",
    "import pickle\n",
    "import problem_unittests as tests\n",
    "import helper\n",
    "\n",
    "# Load the Preprocessed Validation data\n",
    "valid_features, valid_labels = pickle.load(open('preprocess_validation.p', mode='rb'))"
   ]
  },
  {
   "cell_type": "markdown",
   "metadata": {},
   "source": [
    "## Build the network\n",
    "For the neural network, you'll build each layer into a function.  Most of the code you've seen has been outside of functions. To test your code more thoroughly, we require that you put each layer in a function.  This allows us to give you better feedback and test for simple mistakes using our unittests before you submit your project.\n",
    "\n",
    ">**Note:** If you're finding it hard to dedicate enough time for this course each week, we've provided a small shortcut to this part of the project. In the next couple of problems, you'll have the option to use classes from the [TensorFlow Layers](https://www.tensorflow.org/api_docs/python/tf/layers) or [TensorFlow Layers (contrib)](https://www.tensorflow.org/api_guides/python/contrib.layers) packages to build each layer, except the layers you build in the \"Convolutional and Max Pooling Layer\" section.  TF Layers is similar to Keras's and TFLearn's abstraction to layers, so it's easy to pickup.\n",
    "\n",
    ">However, if you would like to get the most out of this course, try to solve all the problems _without_ using anything from the TF Layers packages. You **can** still use classes from other packages that happen to have the same name as ones you find in TF Layers! For example, instead of using the TF Layers version of the `conv2d` class, [tf.layers.conv2d](https://www.tensorflow.org/api_docs/python/tf/layers/conv2d), you would want to use the TF Neural Network version of `conv2d`, [tf.nn.conv2d](https://www.tensorflow.org/api_docs/python/tf/nn/conv2d). \n",
    "\n",
    "Let's begin!\n",
    "\n",
    "### Input\n",
    "The neural network needs to read the image data, one-hot encoded labels, and dropout keep probability. Implement the following functions\n",
    "* Implement `neural_net_image_input`\n",
    " * Return a [TF Placeholder](https://www.tensorflow.org/api_docs/python/tf/placeholder)\n",
    " * Set the shape using `image_shape` with batch size set to `None`.\n",
    " * Name the TensorFlow placeholder \"x\" using the TensorFlow `name` parameter in the [TF Placeholder](https://www.tensorflow.org/api_docs/python/tf/placeholder).\n",
    "* Implement `neural_net_label_input`\n",
    " * Return a [TF Placeholder](https://www.tensorflow.org/api_docs/python/tf/placeholder)\n",
    " * Set the shape using `n_classes` with batch size set to `None`.\n",
    " * Name the TensorFlow placeholder \"y\" using the TensorFlow `name` parameter in the [TF Placeholder](https://www.tensorflow.org/api_docs/python/tf/placeholder).\n",
    "* Implement `neural_net_keep_prob_input`\n",
    " * Return a [TF Placeholder](https://www.tensorflow.org/api_docs/python/tf/placeholder) for dropout keep probability.\n",
    " * Name the TensorFlow placeholder \"keep_prob\" using the TensorFlow `name` parameter in the [TF Placeholder](https://www.tensorflow.org/api_docs/python/tf/placeholder).\n",
    "\n",
    "These names will be used at the end of the project to load your saved model.\n",
    "\n",
    "Note: `None` for shapes in TensorFlow allow for a dynamic size."
   ]
  },
  {
   "cell_type": "code",
   "execution_count": 8,
   "metadata": {
    "collapsed": false
   },
   "outputs": [
    {
     "name": "stdout",
     "output_type": "stream",
     "text": [
      "Image Input Tests Passed.\n",
      "Label Input Tests Passed.\n",
      "Keep Prob Tests Passed.\n"
     ]
    }
   ],
   "source": [
    "import tensorflow as tf\n",
    "\n",
    "def neural_net_image_input(image_shape):\n",
    "    \"\"\"\n",
    "    Return a Tensor for a bach of image input\n",
    "    : image_shape: Shape of the images\n",
    "    : return: Tensor for image input.\n",
    "    \"\"\"\n",
    "    # TODO: Implement Function\n",
    "    image_width, image_height, color_channels = image_shape\n",
    "    x = tf.placeholder(\n",
    "    tf.float32,\n",
    "    shape=[None, image_width, image_height, color_channels], name='x')\n",
    "    return x\n",
    "\n",
    "\n",
    "def neural_net_label_input(n_classes):\n",
    "    \"\"\"\n",
    "    Return a Tensor for a batch of label input\n",
    "    : n_classes: Number of classes\n",
    "    : return: Tensor for label input.\n",
    "    \"\"\"\n",
    "    # TODO: Implement Function\n",
    "    return tf.placeholder(\n",
    "    tf.float32,\n",
    "    shape=[None, n_classes], name='y')\n",
    "   \n",
    "\n",
    "\n",
    "def neural_net_keep_prob_input():\n",
    "    \"\"\"\n",
    "    Return a Tensor for keep probability\n",
    "    : return: Tensor for keep probability.\n",
    "    \"\"\"\n",
    "    # TODO: Implement Function\n",
    "    return tf.placeholder(tf.float32, name='keep_prob')\n",
    "    \n",
    "\n",
    "\n",
    "\"\"\"\n",
    "DON'T MODIFY ANYTHING IN THIS CELL THAT IS BELOW THIS LINE\n",
    "\"\"\"\n",
    "tf.reset_default_graph()\n",
    "tests.test_nn_image_inputs(neural_net_image_input)\n",
    "tests.test_nn_label_inputs(neural_net_label_input)\n",
    "tests.test_nn_keep_prob_inputs(neural_net_keep_prob_input)"
   ]
  },
  {
   "cell_type": "markdown",
   "metadata": {},
   "source": [
    "### Convolution and Max Pooling Layer\n",
    "Convolution layers have a lot of success with images. For this code cell, you should implement the function `conv2d_maxpool` to apply convolution then max pooling:\n",
    "* Create the weight and bias using `conv_ksize`, `conv_num_outputs` and the shape of `x_tensor`.\n",
    "* Apply a convolution to `x_tensor` using weight and `conv_strides`.\n",
    " * We recommend you use same padding, but you're welcome to use any padding.\n",
    "* Add bias\n",
    "* Add a nonlinear activation to the convolution.\n",
    "* Apply Max Pooling using `pool_ksize` and `pool_strides`.\n",
    " * We recommend you use same padding, but you're welcome to use any padding.\n",
    "\n",
    "**Note:** You **can't** use [TensorFlow Layers](https://www.tensorflow.org/api_docs/python/tf/layers) or [TensorFlow Layers (contrib)](https://www.tensorflow.org/api_guides/python/contrib.layers) for **this** layer, but you can still use TensorFlow's [Neural Network](https://www.tensorflow.org/api_docs/python/tf/nn) package. You may still use the shortcut option for all the **other** layers."
   ]
  },
  {
   "cell_type": "code",
   "execution_count": 9,
   "metadata": {
    "collapsed": false
   },
   "outputs": [
    {
     "name": "stdout",
     "output_type": "stream",
     "text": [
      "Tests Passed\n"
     ]
    }
   ],
   "source": [
    "def conv2d_maxpool(x_tensor, conv_num_outputs, conv_ksize, conv_strides, pool_ksize, pool_strides):\n",
    "    \"\"\"\n",
    "    Apply convolution then max pooling to x_tensor\n",
    "    :param x_tensor: TensorFlow Tensor\n",
    "    :param conv_num_outputs: Number of outputs for the convolutional layer\n",
    "    :param conv_ksize: kernal size 2-D Tuple for the convolutional layer\n",
    "    :param conv_strides: Stride 2-D Tuple for convolution\n",
    "    :param pool_ksize: kernal size 2-D Tuple for pool\n",
    "    :param pool_strides: Stride 2-D Tuple for pool\n",
    "    : return: A tensor that represents convolution and max pooling of x_tensor\n",
    "    \"\"\"\n",
    "    # TODO: Implement Function\n",
    "    filter_size_width, filter_size_height = conv_ksize\n",
    "    color_channels = x_tensor.shape.as_list()[-1]\n",
    "    weight = tf.Variable(tf.truncated_normal(\n",
    "        [filter_size_width, filter_size_height, color_channels, conv_num_outputs], stddev=0.01))\n",
    "    bias = tf.Variable(tf.zeros(conv_num_outputs))\n",
    "   \n",
    "    # Applying Convolution and set the stride for batch and input_channels to 1\n",
    "    a, b = conv_strides\n",
    "    full_conv_strides = [1, a, b, 1]\n",
    "    conv_layer = tf.nn.conv2d(x_tensor, weight, strides=full_conv_strides, padding='SAME')\n",
    "    # Adding bias\n",
    "    conv_layer = tf.nn.bias_add(conv_layer, bias)\n",
    "    # Applying activation function\n",
    "    conv_layer = tf.nn.relu(conv_layer)\n",
    "    # Applying Max Pooling\n",
    "    # and setting stride and ksize for batch and input_channels \n",
    "    a, b = pool_strides\n",
    "    full_pool_strides = [1, a, b, 1]\n",
    "    a, b = pool_ksize\n",
    "    full_pool_ksize = [1, a, b, 1]\n",
    "    conv_layer = tf.nn.max_pool(\n",
    "        conv_layer,\n",
    "        ksize=full_pool_ksize,\n",
    "        strides=full_pool_strides,\n",
    "        padding='SAME')\n",
    "    return conv_layer \n",
    "\n",
    "\n",
    "\n",
    "\n",
    "\"\"\"\n",
    "DON'T MODIFY ANYTHING IN THIS CELL THAT IS BELOW THIS LINE\n",
    "\"\"\"\n",
    "tests.test_con_pool(conv2d_maxpool)"
   ]
  },
  {
   "cell_type": "markdown",
   "metadata": {},
   "source": [
    "### Flatten Layer\n",
    "Implement the `flatten` function to change the dimension of `x_tensor` from a 4-D tensor to a 2-D tensor.  The output should be the shape (*Batch Size*, *Flattened Image Size*). Shortcut option: you can use classes from the [TensorFlow Layers](https://www.tensorflow.org/api_docs/python/tf/layers) or [TensorFlow Layers (contrib)](https://www.tensorflow.org/api_guides/python/contrib.layers) packages for this layer. For more of a challenge, only use other TensorFlow packages."
   ]
  },
  {
   "cell_type": "code",
   "execution_count": 10,
   "metadata": {
    "collapsed": false
   },
   "outputs": [
    {
     "name": "stdout",
     "output_type": "stream",
     "text": [
      "Tests Passed\n"
     ]
    }
   ],
   "source": [
    "def flatten(x_tensor):\n",
    "    \"\"\"\n",
    "    Flatten x_tensor to (Batch Size, Flattened Image Size)\n",
    "    : x_tensor: A tensor of size (Batch Size, ...), where ... are the image dimensions.\n",
    "    : return: A tensor of size (Batch Size, Flattened Image Size).\n",
    "    \"\"\"\n",
    "    the_shape = x_tensor.shape.as_list()\n",
    "    # Discard batch size\n",
    "    new_shape = np.prod(the_shape[1:])\n",
    "    flat = tf.reshape(x_tensor, [-1, new_shape])\n",
    "    return flat\n",
    "\n",
    "\n",
    "\"\"\"\n",
    "DON'T MODIFY ANYTHING IN THIS CELL THAT IS BELOW THIS LINE\n",
    "\"\"\"\n",
    "tests.test_flatten(flatten)"
   ]
  },
  {
   "cell_type": "markdown",
   "metadata": {},
   "source": [
    "### Fully-Connected Layer\n",
    "Implement the `fully_conn` function to apply a fully connected layer to `x_tensor` with the shape (*Batch Size*, *num_outputs*). Shortcut option: you can use classes from the [TensorFlow Layers](https://www.tensorflow.org/api_docs/python/tf/layers) or [TensorFlow Layers (contrib)](https://www.tensorflow.org/api_guides/python/contrib.layers) packages for this layer. For more of a challenge, only use other TensorFlow packages."
   ]
  },
  {
   "cell_type": "code",
   "execution_count": 11,
   "metadata": {
    "collapsed": false
   },
   "outputs": [
    {
     "name": "stdout",
     "output_type": "stream",
     "text": [
      "Tests Passed\n"
     ]
    }
   ],
   "source": [
    "def fully_conn(x_tensor, num_outputs):\n",
    "    \"\"\"\n",
    "    Apply a fully connected layer to x_tensor using weight and bias\n",
    "    : x_tensor: A 2-D tensor where the first dimension is batch size.\n",
    "    : num_outputs: The number of output that the new tensor should be.\n",
    "    : return: A 2-D tensor where the second dimension is num_outputs.\n",
    "    \"\"\"\n",
    "    # TODO: Implement Function\n",
    "    weight = tf.Variable(tf.truncated_normal(\n",
    "        [x_tensor.get_shape().as_list()[-1] ,num_outputs], stddev=0.01))\n",
    "    bias = tf.Variable(tf.zeros(num_outputs))\n",
    "    fc = tf.add(tf.matmul(x_tensor, weight), bias)\n",
    "    fc = tf.nn.relu(fc)\n",
    "    return fc\n",
    "\n",
    "\n",
    "\"\"\"\n",
    "DON'T MODIFY ANYTHING IN THIS CELL THAT IS BELOW THIS LINE\n",
    "\"\"\"\n",
    "tests.test_fully_conn(fully_conn)"
   ]
  },
  {
   "cell_type": "markdown",
   "metadata": {},
   "source": [
    "### Output Layer\n",
    "Implement the `output` function to apply a fully connected layer to `x_tensor` with the shape (*Batch Size*, *num_outputs*). Shortcut option: you can use classes from the [TensorFlow Layers](https://www.tensorflow.org/api_docs/python/tf/layers) or [TensorFlow Layers (contrib)](https://www.tensorflow.org/api_guides/python/contrib.layers) packages for this layer. For more of a challenge, only use other TensorFlow packages.\n",
    "\n",
    "**Note:** Activation, softmax, or cross entropy should **not** be applied to this."
   ]
  },
  {
   "cell_type": "code",
   "execution_count": 12,
   "metadata": {
    "collapsed": false
   },
   "outputs": [
    {
     "name": "stdout",
     "output_type": "stream",
     "text": [
      "Tests Passed\n"
     ]
    }
   ],
   "source": [
    "def output(x_tensor, num_outputs):\n",
    "    \"\"\"\n",
    "    Apply a output layer to x_tensor using weight and bias\n",
    "    : x_tensor: A 2-D tensor where the first dimension is batch size.\n",
    "    : num_outputs: The number of output that the new tensor should be.\n",
    "    : return: A 2-D tensor where the second dimension is num_outputs.\n",
    "    \"\"\"\n",
    "    # TODO: Implement Function\n",
    "    weight = tf.Variable(tf.truncated_normal(\n",
    "        [x_tensor.get_shape().as_list()[-1] , num_outputs], stddev=0.01))\n",
    "    bias = tf.Variable(tf.zeros(num_outputs))\n",
    "    out = tf.add(tf.matmul(x_tensor, weight), bias)\n",
    "    return out\n",
    "\n",
    "\"\"\"\n",
    "DON'T MODIFY ANYTHING IN THIS CELL THAT IS BELOW THIS LINE\n",
    "\"\"\"\n",
    "tests.test_output(output)"
   ]
  },
  {
   "cell_type": "markdown",
   "metadata": {},
   "source": [
    "### Create Convolutional Model\n",
    "Implement the function `conv_net` to create a convolutional neural network model. The function takes in a batch of images, `x`, and outputs logits.  Use the layers you created above to create this model:\n",
    "\n",
    "* Apply 1, 2, or 3 Convolution and Max Pool layers\n",
    "* Apply a Flatten Layer\n",
    "* Apply 1, 2, or 3 Fully Connected Layers\n",
    "* Apply an Output Layer\n",
    "* Return the output\n",
    "* Apply [TensorFlow's Dropout](https://www.tensorflow.org/api_docs/python/tf/nn/dropout) to one or more layers in the model using `keep_prob`. "
   ]
  },
  {
   "cell_type": "code",
   "execution_count": 13,
   "metadata": {
    "collapsed": false
   },
   "outputs": [
    {
     "name": "stdout",
     "output_type": "stream",
     "text": [
      "Neural Network Built!\n"
     ]
    }
   ],
   "source": [
    "def conv_net(x, keep_prob):\n",
    "    \"\"\"\n",
    "    Create a convolutional neural network model\n",
    "    : x: Placeholder tensor that holds image data.\n",
    "    : keep_prob: Placeholder tensor that hold dropout keep probability.\n",
    "    : return: Tensor that represents logits\n",
    "    \"\"\"\n",
    "    # TODO: Apply 1, 2, or 3 Convolution and Max Pool layers\n",
    "    #    Play around with different number of outputs, kernel size and stride\n",
    "    # Function Definition from Above:\n",
    "    conv_num_outputs = 32\n",
    "    conv_ksize = (5,5)\n",
    "    conv_strides = (1,1)\n",
    "    pool_ksize = (2,2)\n",
    "    pool_strides = (2,2)\n",
    "    lgts = conv2d_maxpool(x, conv_num_outputs, conv_ksize, conv_strides, pool_ksize, pool_strides)\n",
    "    \n",
    "    conv_num_outputs = 64\n",
    "    conv_ksize = (5,5)\n",
    "    conv_strides = (1,1)\n",
    "    pool_ksize = (2,2)\n",
    "    pool_strides = (2,2)\n",
    "    lgts = conv2d_maxpool(lgts, conv_num_outputs, conv_ksize, conv_strides, pool_ksize, pool_strides)\n",
    "\n",
    "    conv_num_outputs = 128\n",
    "    conv_ksize = (5,5)\n",
    "    conv_strides = (1,1)\n",
    "    pool_ksize = (2,2)\n",
    "    pool_strides = (2,2)\n",
    "    lgts = conv2d_maxpool(lgts, conv_num_outputs, conv_ksize, conv_strides, pool_ksize, pool_strides)\n",
    "\n",
    "    tf.nn.dropout(lgts, keep_prob)\n",
    "    \n",
    "\n",
    "    # TODO: Apply a Flatten Layer\n",
    "    # Function Definition from Above:\n",
    "    lgts = flatten(lgts)\n",
    "    \n",
    "\n",
    "    # TODO: Apply 1, 2, or 3 Fully Connected Layers\n",
    "    #    Play around with different number of outputs\n",
    "    # Function Definition from Above:\n",
    "    num_outputs = 512\n",
    "    lgts = fully_conn(lgts, num_outputs)\n",
    "    \n",
    "    num_outputs = 512\n",
    "    lgts = fully_conn(lgts, num_outputs)\n",
    "    \n",
    "    num_outputs = 512\n",
    "    lgts = fully_conn(lgts, num_outputs)\n",
    "    \n",
    "    \n",
    "    # TODO: Apply an Output Layer\n",
    "    #    Set this to the number of classes\n",
    "    # Function Definition from Above:\n",
    "    num_outputs = 10\n",
    "    lgts = output(lgts, num_outputs)\n",
    "    \n",
    "    \n",
    "    # TODO: return output\n",
    "    return lgts\n",
    "\n",
    "\n",
    "\"\"\"\n",
    "DON'T MODIFY ANYTHING IN THIS CELL THAT IS BELOW THIS LINE\n",
    "\"\"\"\n",
    "\n",
    "##############################\n",
    "## Build the Neural Network ##\n",
    "##############################\n",
    "\n",
    "# Remove previous weights, bias, inputs, etc..\n",
    "tf.reset_default_graph()\n",
    "\n",
    "# Inputs\n",
    "x = neural_net_image_input((32, 32, 3))\n",
    "y = neural_net_label_input(10)\n",
    "keep_prob = neural_net_keep_prob_input()\n",
    "\n",
    "# Model\n",
    "logits = conv_net(x, keep_prob)\n",
    "\n",
    "# Name logits Tensor, so that is can be loaded from disk after training\n",
    "logits = tf.identity(logits, name='logits')\n",
    "\n",
    "# Loss and Optimizer\n",
    "cost = tf.reduce_mean(tf.nn.softmax_cross_entropy_with_logits(logits=logits, labels=y))\n",
    "optimizer = tf.train.AdamOptimizer().minimize(cost)\n",
    "\n",
    "# Accuracy\n",
    "correct_pred = tf.equal(tf.argmax(logits, 1), tf.argmax(y, 1))\n",
    "accuracy = tf.reduce_mean(tf.cast(correct_pred, tf.float32), name='accuracy')\n",
    "\n",
    "tests.test_conv_net(conv_net)"
   ]
  },
  {
   "cell_type": "markdown",
   "metadata": {},
   "source": [
    "## Train the Neural Network\n",
    "### Single Optimization\n",
    "Implement the function `train_neural_network` to do a single optimization.  The optimization should use `optimizer` to optimize in `session` with a `feed_dict` of the following:\n",
    "* `x` for image input\n",
    "* `y` for labels\n",
    "* `keep_prob` for keep probability for dropout\n",
    "\n",
    "This function will be called for each batch, so `tf.global_variables_initializer()` has already been called.\n",
    "\n",
    "Note: Nothing needs to be returned. This function is only optimizing the neural network."
   ]
  },
  {
   "cell_type": "code",
   "execution_count": 14,
   "metadata": {
    "collapsed": false
   },
   "outputs": [
    {
     "name": "stdout",
     "output_type": "stream",
     "text": [
      "Tests Passed\n"
     ]
    }
   ],
   "source": [
    "def train_neural_network(session, optimizer, keep_probability, feature_batch, label_batch):\n",
    "    \"\"\"\n",
    "    Optimize the session on a batch of images and labels\n",
    "    : session: Current TensorFlow session\n",
    "    : optimizer: TensorFlow optimizer function\n",
    "    : keep_probability: keep probability\n",
    "    : feature_batch: Batch of Numpy image data\n",
    "    : label_batch: Batch of Numpy label data\n",
    "    \"\"\"\n",
    "    # TODO: Implement Function\n",
    "    session.run(optimizer, feed_dict={\n",
    "                x: feature_batch,\n",
    "                y: label_batch,\n",
    "                keep_prob: keep_probability}) \n",
    "    pass\n",
    "\n",
    "\n",
    "\"\"\"\n",
    "DON'T MODIFY ANYTHING IN THIS CELL THAT IS BELOW THIS LINE\n",
    "\"\"\"\n",
    "tests.test_train_nn(train_neural_network)"
   ]
  },
  {
   "cell_type": "markdown",
   "metadata": {},
   "source": [
    "### Show Stats\n",
    "Implement the function `print_stats` to print loss and validation accuracy.  Use the global variables `valid_features` and `valid_labels` to calculate validation accuracy.  Use a keep probability of `1.0` to calculate the loss and validation accuracy."
   ]
  },
  {
   "cell_type": "code",
   "execution_count": 15,
   "metadata": {
    "collapsed": false
   },
   "outputs": [],
   "source": [
    "def print_stats(session, feature_batch, label_batch, cost, accuracy):\n",
    "    \"\"\"\n",
    "    Print information about loss and validation accuracy\n",
    "    : session: Current TensorFlow session\n",
    "    : feature_batch: Batch of Numpy image data\n",
    "    : label_batch: Batch of Numpy label data\n",
    "    : cost: TensorFlow cost function\n",
    "    : accuracy: TensorFlow accuracy function\n",
    "    \"\"\"\n",
    "   # TODO: Implement Function\n",
    "    the_validation_loss = sess.run(cost, feed_dict={\n",
    "        x: valid_features,\n",
    "        y: valid_labels,\n",
    "        keep_prob: 1})\n",
    "    the_validation_accuracy = sess.run(accuracy, feed_dict={\n",
    "        x: valid_features,\n",
    "        y: valid_labels,\n",
    "        keep_prob: 1})\n",
    "    print(\"validation_loss: {}, validation_accuracy: {}\".format(the_validation_loss, the_validation_accuracy)) \n",
    "    pass"
   ]
  },
  {
   "cell_type": "markdown",
   "metadata": {},
   "source": [
    "### Hyperparameters\n",
    "Tune the following parameters:\n",
    "* Set `epochs` to the number of iterations until the network stops learning or start overfitting\n",
    "* Set `batch_size` to the highest number that your machine has memory for.  Most people set them to common sizes of memory:\n",
    " * 64\n",
    " * 128\n",
    " * 256\n",
    " * ...\n",
    "* Set `keep_probability` to the probability of keeping a node using dropout"
   ]
  },
  {
   "cell_type": "code",
   "execution_count": 16,
   "metadata": {
    "collapsed": true
   },
   "outputs": [],
   "source": [
    "# TODO: Tune Parameters\n",
    "epochs = 20\n",
    "batch_size = 128\n",
    "keep_probability = 0.5"
   ]
  },
  {
   "cell_type": "markdown",
   "metadata": {},
   "source": [
    "### Train on a Single CIFAR-10 Batch\n",
    "Instead of training the neural network on all the CIFAR-10 batches of data, let's use a single batch. This should save time while you iterate on the model to get a better accuracy.  Once the final validation accuracy is 50% or greater, run the model on all the data in the next section."
   ]
  },
  {
   "cell_type": "code",
   "execution_count": 17,
   "metadata": {
    "collapsed": false
   },
   "outputs": [
    {
     "name": "stdout",
     "output_type": "stream",
     "text": [
      "Checking the Training on a Single Batch...\n",
      "Epoch  1, CIFAR-10 Batch 1:  validation_loss: 2.1479108333587646, validation_accuracy: 0.15219999849796295\n",
      "Epoch  2, CIFAR-10 Batch 1:  validation_loss: 2.035501003265381, validation_accuracy: 0.19300000369548798\n",
      "Epoch  3, CIFAR-10 Batch 1:  validation_loss: 1.8900063037872314, validation_accuracy: 0.24480000138282776\n",
      "Epoch  4, CIFAR-10 Batch 1:  validation_loss: 1.7552359104156494, validation_accuracy: 0.3188000023365021\n",
      "Epoch  5, CIFAR-10 Batch 1:  validation_loss: 1.64634370803833, validation_accuracy: 0.3813999891281128\n",
      "Epoch  6, CIFAR-10 Batch 1:  validation_loss: 1.5464755296707153, validation_accuracy: 0.41780000925064087\n",
      "Epoch  7, CIFAR-10 Batch 1:  validation_loss: 1.484756588935852, validation_accuracy: 0.4442000091075897\n",
      "Epoch  8, CIFAR-10 Batch 1:  validation_loss: 1.4751763343811035, validation_accuracy: 0.4666000008583069\n",
      "Epoch  9, CIFAR-10 Batch 1:  validation_loss: 1.4272714853286743, validation_accuracy: 0.49239999055862427\n",
      "Epoch 10, CIFAR-10 Batch 1:  validation_loss: 1.3827341794967651, validation_accuracy: 0.5045999884605408\n",
      "Epoch 11, CIFAR-10 Batch 1:  validation_loss: 1.5137104988098145, validation_accuracy: 0.4912000000476837\n",
      "Epoch 12, CIFAR-10 Batch 1:  validation_loss: 1.5180487632751465, validation_accuracy: 0.5009999871253967\n",
      "Epoch 13, CIFAR-10 Batch 1:  validation_loss: 1.512084722518921, validation_accuracy: 0.5166000127792358\n",
      "Epoch 14, CIFAR-10 Batch 1:  validation_loss: 1.7119379043579102, validation_accuracy: 0.4927999973297119\n",
      "Epoch 15, CIFAR-10 Batch 1:  validation_loss: 1.6600160598754883, validation_accuracy: 0.5252000093460083\n",
      "Epoch 16, CIFAR-10 Batch 1:  validation_loss: 1.620373249053955, validation_accuracy: 0.52920001745224\n",
      "Epoch 17, CIFAR-10 Batch 1:  validation_loss: 1.6859527826309204, validation_accuracy: 0.5242000222206116\n",
      "Epoch 18, CIFAR-10 Batch 1:  validation_loss: 1.9688074588775635, validation_accuracy: 0.5163999795913696\n",
      "Epoch 19, CIFAR-10 Batch 1:  validation_loss: 2.0600039958953857, validation_accuracy: 0.5005999803543091\n",
      "Epoch 20, CIFAR-10 Batch 1:  validation_loss: 1.9780267477035522, validation_accuracy: 0.5212000012397766\n"
     ]
    }
   ],
   "source": [
    "\"\"\"\n",
    "DON'T MODIFY ANYTHING IN THIS CELL\n",
    "\"\"\"\n",
    "print('Checking the Training on a Single Batch...')\n",
    "with tf.Session() as sess:\n",
    "    # Initializing the variables\n",
    "    sess.run(tf.global_variables_initializer())\n",
    "    \n",
    "    # Training cycle\n",
    "    for epoch in range(epochs):\n",
    "        batch_i = 1\n",
    "        for batch_features, batch_labels in helper.load_preprocess_training_batch(batch_i, batch_size):\n",
    "            train_neural_network(sess, optimizer, keep_probability, batch_features, batch_labels)\n",
    "        print('Epoch {:>2}, CIFAR-10 Batch {}:  '.format(epoch + 1, batch_i), end='')\n",
    "        print_stats(sess, batch_features, batch_labels, cost, accuracy)"
   ]
  },
  {
   "cell_type": "markdown",
   "metadata": {},
   "source": [
    "### Fully Train the Model\n",
    "Now that you got a good accuracy with a single CIFAR-10 batch, try it with all five batches."
   ]
  },
  {
   "cell_type": "code",
   "execution_count": 18,
   "metadata": {
    "collapsed": false
   },
   "outputs": [
    {
     "name": "stdout",
     "output_type": "stream",
     "text": [
      "Training...\n",
      "Epoch  1, CIFAR-10 Batch 1:  validation_loss: 2.203097343444824, validation_accuracy: 0.1987999975681305\n",
      "Epoch  1, CIFAR-10 Batch 2:  validation_loss: 2.046509265899658, validation_accuracy: 0.22599999606609344\n",
      "Epoch  1, CIFAR-10 Batch 3:  validation_loss: 1.8553582429885864, validation_accuracy: 0.2946000099182129\n",
      "Epoch  1, CIFAR-10 Batch 4:  validation_loss: 1.7046706676483154, validation_accuracy: 0.33980000019073486\n",
      "Epoch  1, CIFAR-10 Batch 5:  validation_loss: 1.6291106939315796, validation_accuracy: 0.3693999946117401\n",
      "Epoch  2, CIFAR-10 Batch 1:  validation_loss: 1.5313998460769653, validation_accuracy: 0.4214000105857849\n",
      "Epoch  2, CIFAR-10 Batch 2:  validation_loss: 1.5510785579681396, validation_accuracy: 0.41620001196861267\n",
      "Epoch  2, CIFAR-10 Batch 3:  validation_loss: 1.5034452676773071, validation_accuracy: 0.44859999418258667\n",
      "Epoch  2, CIFAR-10 Batch 4:  validation_loss: 1.3837764263153076, validation_accuracy: 0.48100000619888306\n",
      "Epoch  2, CIFAR-10 Batch 5:  validation_loss: 1.3337163925170898, validation_accuracy: 0.5098000168800354\n",
      "Epoch  3, CIFAR-10 Batch 1:  validation_loss: 1.3069442510604858, validation_accuracy: 0.5135999917984009\n",
      "Epoch  3, CIFAR-10 Batch 2:  validation_loss: 1.3387222290039062, validation_accuracy: 0.5170000195503235\n",
      "Epoch  3, CIFAR-10 Batch 3:  validation_loss: 1.3109936714172363, validation_accuracy: 0.526199996471405\n",
      "Epoch  3, CIFAR-10 Batch 4:  validation_loss: 1.2124581336975098, validation_accuracy: 0.5595999956130981\n",
      "Epoch  3, CIFAR-10 Batch 5:  validation_loss: 1.1877411603927612, validation_accuracy: 0.5740000009536743\n",
      "Epoch  4, CIFAR-10 Batch 1:  validation_loss: 1.1758126020431519, validation_accuracy: 0.5774000287055969\n",
      "Epoch  4, CIFAR-10 Batch 2:  validation_loss: 1.208270788192749, validation_accuracy: 0.5680000185966492\n",
      "Epoch  4, CIFAR-10 Batch 3:  validation_loss: 1.1423083543777466, validation_accuracy: 0.5902000069618225\n",
      "Epoch  4, CIFAR-10 Batch 4:  validation_loss: 1.1367528438568115, validation_accuracy: 0.5942000150680542\n",
      "Epoch  4, CIFAR-10 Batch 5:  validation_loss: 1.1014982461929321, validation_accuracy: 0.6074000000953674\n",
      "Epoch  5, CIFAR-10 Batch 1:  validation_loss: 1.1446757316589355, validation_accuracy: 0.6047999858856201\n",
      "Epoch  5, CIFAR-10 Batch 2:  validation_loss: 1.093336820602417, validation_accuracy: 0.6137999892234802\n",
      "Epoch  5, CIFAR-10 Batch 3:  validation_loss: 1.0543808937072754, validation_accuracy: 0.625\n",
      "Epoch  5, CIFAR-10 Batch 4:  validation_loss: 1.0895591974258423, validation_accuracy: 0.6136000156402588\n",
      "Epoch  5, CIFAR-10 Batch 5:  validation_loss: 1.1009894609451294, validation_accuracy: 0.6132000088691711\n",
      "Epoch  6, CIFAR-10 Batch 1:  validation_loss: 1.0850119590759277, validation_accuracy: 0.6367999911308289\n",
      "Epoch  6, CIFAR-10 Batch 2:  validation_loss: 1.0850986242294312, validation_accuracy: 0.6236000061035156\n",
      "Epoch  6, CIFAR-10 Batch 3:  validation_loss: 1.054966688156128, validation_accuracy: 0.6420000195503235\n",
      "Epoch  6, CIFAR-10 Batch 4:  validation_loss: 1.1118650436401367, validation_accuracy: 0.6136000156402588\n",
      "Epoch  6, CIFAR-10 Batch 5:  validation_loss: 1.0968972444534302, validation_accuracy: 0.6187999844551086\n",
      "Epoch  7, CIFAR-10 Batch 1:  validation_loss: 1.1041620969772339, validation_accuracy: 0.6431999802589417\n",
      "Epoch  7, CIFAR-10 Batch 2:  validation_loss: 1.112000584602356, validation_accuracy: 0.6380000114440918\n",
      "Epoch  7, CIFAR-10 Batch 3:  validation_loss: 1.0223069190979004, validation_accuracy: 0.6611999869346619\n",
      "Epoch  7, CIFAR-10 Batch 4:  validation_loss: 1.0538979768753052, validation_accuracy: 0.6403999924659729\n",
      "Epoch  7, CIFAR-10 Batch 5:  validation_loss: 1.107784390449524, validation_accuracy: 0.628600001335144\n",
      "Epoch  8, CIFAR-10 Batch 1:  validation_loss: 1.1087183952331543, validation_accuracy: 0.6525999903678894\n",
      "Epoch  8, CIFAR-10 Batch 2:  validation_loss: 1.070144772529602, validation_accuracy: 0.6571999788284302\n",
      "Epoch  8, CIFAR-10 Batch 3:  validation_loss: 1.0660656690597534, validation_accuracy: 0.6467999815940857\n",
      "Epoch  8, CIFAR-10 Batch 4:  validation_loss: 1.0547670125961304, validation_accuracy: 0.6467999815940857\n",
      "Epoch  8, CIFAR-10 Batch 5:  validation_loss: 1.230077862739563, validation_accuracy: 0.6140000224113464\n",
      "Epoch  9, CIFAR-10 Batch 1:  validation_loss: 1.1189823150634766, validation_accuracy: 0.6567999720573425\n",
      "Epoch  9, CIFAR-10 Batch 2:  validation_loss: 1.1946603059768677, validation_accuracy: 0.6269999742507935\n",
      "Epoch  9, CIFAR-10 Batch 3:  validation_loss: 1.1516109704971313, validation_accuracy: 0.6474000215530396\n",
      "Epoch  9, CIFAR-10 Batch 4:  validation_loss: 1.1387062072753906, validation_accuracy: 0.6376000046730042\n",
      "Epoch  9, CIFAR-10 Batch 5:  validation_loss: 1.255282998085022, validation_accuracy: 0.635200023651123\n",
      "Epoch 10, CIFAR-10 Batch 1:  validation_loss: 1.165498971939087, validation_accuracy: 0.6467999815940857\n",
      "Epoch 10, CIFAR-10 Batch 2:  validation_loss: 1.2219291925430298, validation_accuracy: 0.6322000026702881\n",
      "Epoch 10, CIFAR-10 Batch 3:  validation_loss: 1.1834572553634644, validation_accuracy: 0.642799973487854\n",
      "Epoch 10, CIFAR-10 Batch 4:  validation_loss: 1.1493371725082397, validation_accuracy: 0.6424000263214111\n",
      "Epoch 10, CIFAR-10 Batch 5:  validation_loss: 1.197405457496643, validation_accuracy: 0.6650000214576721\n",
      "Epoch 11, CIFAR-10 Batch 1:  validation_loss: 1.1927378177642822, validation_accuracy: 0.650600016117096\n",
      "Epoch 11, CIFAR-10 Batch 2:  validation_loss: 1.3464250564575195, validation_accuracy: 0.6212000250816345\n",
      "Epoch 11, CIFAR-10 Batch 3:  validation_loss: 1.2666622400283813, validation_accuracy: 0.6394000053405762\n",
      "Epoch 11, CIFAR-10 Batch 4:  validation_loss: 1.2015225887298584, validation_accuracy: 0.645799994468689\n",
      "Epoch 11, CIFAR-10 Batch 5:  validation_loss: 1.3293839693069458, validation_accuracy: 0.6484000086784363\n",
      "Epoch 12, CIFAR-10 Batch 1:  validation_loss: 1.317339301109314, validation_accuracy: 0.6412000060081482\n",
      "Epoch 12, CIFAR-10 Batch 2:  validation_loss: 1.3777581453323364, validation_accuracy: 0.6110000014305115\n",
      "Epoch 12, CIFAR-10 Batch 3:  validation_loss: 1.4285730123519897, validation_accuracy: 0.6241999864578247\n",
      "Epoch 12, CIFAR-10 Batch 4:  validation_loss: 1.3092265129089355, validation_accuracy: 0.6399999856948853\n",
      "Epoch 12, CIFAR-10 Batch 5:  validation_loss: 1.3888349533081055, validation_accuracy: 0.6561999917030334\n",
      "Epoch 13, CIFAR-10 Batch 1:  validation_loss: 1.372779130935669, validation_accuracy: 0.6340000033378601\n",
      "Epoch 13, CIFAR-10 Batch 2:  validation_loss: 1.3003019094467163, validation_accuracy: 0.6507999897003174\n",
      "Epoch 13, CIFAR-10 Batch 3:  validation_loss: 1.4534660577774048, validation_accuracy: 0.6299999952316284\n",
      "Epoch 13, CIFAR-10 Batch 4:  validation_loss: 1.3927758932113647, validation_accuracy: 0.6430000066757202\n",
      "Epoch 13, CIFAR-10 Batch 5:  validation_loss: 1.5055197477340698, validation_accuracy: 0.6503999829292297\n",
      "Epoch 14, CIFAR-10 Batch 1:  validation_loss: 1.3671218156814575, validation_accuracy: 0.6327999830245972\n",
      "Epoch 14, CIFAR-10 Batch 2:  validation_loss: 1.3132905960083008, validation_accuracy: 0.6498000025749207\n",
      "Epoch 14, CIFAR-10 Batch 3:  validation_loss: 1.4233272075653076, validation_accuracy: 0.6317999958992004\n",
      "Epoch 14, CIFAR-10 Batch 4:  validation_loss: 1.4609421491622925, validation_accuracy: 0.6456000208854675\n",
      "Epoch 14, CIFAR-10 Batch 5:  validation_loss: 1.4873765707015991, validation_accuracy: 0.6669999957084656\n",
      "Epoch 15, CIFAR-10 Batch 1:  validation_loss: 1.32022225856781, validation_accuracy: 0.6525999903678894\n",
      "Epoch 15, CIFAR-10 Batch 2:  validation_loss: 1.3917431831359863, validation_accuracy: 0.6553999781608582\n",
      "Epoch 15, CIFAR-10 Batch 3:  validation_loss: 1.530221700668335, validation_accuracy: 0.6308000087738037\n",
      "Epoch 15, CIFAR-10 Batch 4:  validation_loss: 1.60442054271698, validation_accuracy: 0.642799973487854\n",
      "Epoch 15, CIFAR-10 Batch 5:  validation_loss: 1.5749585628509521, validation_accuracy: 0.6585999727249146\n",
      "Epoch 16, CIFAR-10 Batch 1:  validation_loss: 1.5398766994476318, validation_accuracy: 0.6403999924659729\n",
      "Epoch 16, CIFAR-10 Batch 2:  validation_loss: 1.5058374404907227, validation_accuracy: 0.646399974822998\n",
      "Epoch 16, CIFAR-10 Batch 3:  validation_loss: 1.6671414375305176, validation_accuracy: 0.6412000060081482\n",
      "Epoch 16, CIFAR-10 Batch 4:  validation_loss: 1.5449891090393066, validation_accuracy: 0.6539999842643738\n",
      "Epoch 16, CIFAR-10 Batch 5:  validation_loss: 1.875868797302246, validation_accuracy: 0.6453999876976013\n",
      "Epoch 17, CIFAR-10 Batch 1:  validation_loss: 1.7313547134399414, validation_accuracy: 0.6294000148773193\n",
      "Epoch 17, CIFAR-10 Batch 2:  validation_loss: 1.6054259538650513, validation_accuracy: 0.647599995136261\n",
      "Epoch 17, CIFAR-10 Batch 3:  validation_loss: 1.7338371276855469, validation_accuracy: 0.6557999849319458\n",
      "Epoch 17, CIFAR-10 Batch 4:  validation_loss: 1.6794971227645874, validation_accuracy: 0.6535999774932861\n",
      "Epoch 17, CIFAR-10 Batch 5:  validation_loss: 1.974189043045044, validation_accuracy: 0.6510000228881836\n",
      "Epoch 18, CIFAR-10 Batch 1:  validation_loss: 1.8790658712387085, validation_accuracy: 0.6302000284194946\n",
      "Epoch 18, CIFAR-10 Batch 2:  validation_loss: 1.7576539516448975, validation_accuracy: 0.6557999849319458\n",
      "Epoch 18, CIFAR-10 Batch 3:  validation_loss: 1.8425058126449585, validation_accuracy: 0.6399999856948853\n",
      "Epoch 18, CIFAR-10 Batch 4:  validation_loss: 1.9268074035644531, validation_accuracy: 0.6399999856948853\n",
      "Epoch 18, CIFAR-10 Batch 5:  validation_loss: 1.8856241703033447, validation_accuracy: 0.6614000201225281\n",
      "Epoch 19, CIFAR-10 Batch 1:  validation_loss: 1.8626693487167358, validation_accuracy: 0.6492000222206116\n",
      "Epoch 19, CIFAR-10 Batch 2:  validation_loss: 1.8552603721618652, validation_accuracy: 0.6552000045776367\n",
      "Epoch 19, CIFAR-10 Batch 3:  validation_loss: 1.8569855690002441, validation_accuracy: 0.6503999829292297\n",
      "Epoch 19, CIFAR-10 Batch 4:  validation_loss: 2.0553581714630127, validation_accuracy: 0.6245999932289124\n",
      "Epoch 19, CIFAR-10 Batch 5:  validation_loss: 2.0727930068969727, validation_accuracy: 0.6510000228881836\n",
      "Epoch 20, CIFAR-10 Batch 1:  validation_loss: 2.051258087158203, validation_accuracy: 0.6525999903678894\n",
      "Epoch 20, CIFAR-10 Batch 2:  validation_loss: 1.8816897869110107, validation_accuracy: 0.6488000154495239\n",
      "Epoch 20, CIFAR-10 Batch 3:  validation_loss: 1.910416603088379, validation_accuracy: 0.649399995803833\n",
      "Epoch 20, CIFAR-10 Batch 4:  validation_loss: 2.316437244415283, validation_accuracy: 0.6335999965667725\n",
      "Epoch 20, CIFAR-10 Batch 5:  validation_loss: 2.039301872253418, validation_accuracy: 0.6557999849319458\n"
     ]
    }
   ],
   "source": [
    "\"\"\"\n",
    "DON'T MODIFY ANYTHING IN THIS CELL\n",
    "\"\"\"\n",
    "save_model_path = './image_classification'\n",
    "\n",
    "print('Training...')\n",
    "with tf.Session() as sess:\n",
    "    # Initializing the variables\n",
    "    sess.run(tf.global_variables_initializer())\n",
    "    \n",
    "    # Training cycle\n",
    "    for epoch in range(epochs):\n",
    "        # Loop over all batches\n",
    "        n_batches = 5\n",
    "        for batch_i in range(1, n_batches + 1):\n",
    "            for batch_features, batch_labels in helper.load_preprocess_training_batch(batch_i, batch_size):\n",
    "                train_neural_network(sess, optimizer, keep_probability, batch_features, batch_labels)\n",
    "            print('Epoch {:>2}, CIFAR-10 Batch {}:  '.format(epoch + 1, batch_i), end='')\n",
    "            print_stats(sess, batch_features, batch_labels, cost, accuracy)\n",
    "            \n",
    "    # Save Model\n",
    "    saver = tf.train.Saver()\n",
    "    save_path = saver.save(sess, save_model_path)"
   ]
  },
  {
   "cell_type": "markdown",
   "metadata": {},
   "source": [
    "# Checkpoint\n",
    "The model has been saved to disk.\n",
    "## Test Model\n",
    "Test your model against the test dataset.  This will be your final accuracy. You should have an accuracy greater than 50%. If you don't, keep tweaking the model architecture and parameters."
   ]
  },
  {
   "cell_type": "code",
   "execution_count": 19,
   "metadata": {
    "collapsed": false
   },
   "outputs": [
    {
     "name": "stdout",
     "output_type": "stream",
     "text": [
      "Testing Accuracy: 0.6591178797468354\n",
      "\n"
     ]
    },
    {
     "data": {
      "image/png": "[encoded data removed]",
      "text/plain": [
       "<matplotlib.figure.Figure at 0x11a5f0128>"
      ]
     },
     "metadata": {
      "image/png": {
       "height": 319,
       "width": 355
      }
     },
     "output_type": "display_data"
    }
   ],
   "source": [
    "\"\"\"\n",
    "DON'T MODIFY ANYTHING IN THIS CELL\n",
    "\"\"\"\n",
    "%matplotlib inline\n",
    "%config InlineBackend.figure_format = 'retina'\n",
    "\n",
    "import tensorflow as tf\n",
    "import pickle\n",
    "import helper\n",
    "import random\n",
    "\n",
    "# Set batch size if not already set\n",
    "try:\n",
    "    if batch_size:\n",
    "        pass\n",
    "except NameError:\n",
    "    batch_size = 64\n",
    "\n",
    "save_model_path = './image_classification'\n",
    "n_samples = 4\n",
    "top_n_predictions = 3\n",
    "\n",
    "def test_model():\n",
    "    \"\"\"\n",
    "    Test the saved model against the test dataset\n",
    "    \"\"\"\n",
    "\n",
    "    test_features, test_labels = pickle.load(open('preprocess_training.p', mode='rb'))\n",
    "    loaded_graph = tf.Graph()\n",
    "\n",
    "    with tf.Session(graph=loaded_graph) as sess:\n",
    "        # Load model\n",
    "        loader = tf.train.import_meta_graph(save_model_path + '.meta')\n",
    "        loader.restore(sess, save_model_path)\n",
    "\n",
    "        # Get Tensors from loaded model\n",
    "        loaded_x = loaded_graph.get_tensor_by_name('x:0')\n",
    "        loaded_y = loaded_graph.get_tensor_by_name('y:0')\n",
    "        loaded_keep_prob = loaded_graph.get_tensor_by_name('keep_prob:0')\n",
    "        loaded_logits = loaded_graph.get_tensor_by_name('logits:0')\n",
    "        loaded_acc = loaded_graph.get_tensor_by_name('accuracy:0')\n",
    "        \n",
    "        # Get accuracy in batches for memory limitations\n",
    "        test_batch_acc_total = 0\n",
    "        test_batch_count = 0\n",
    "        \n",
    "        for train_feature_batch, train_label_batch in helper.batch_features_labels(test_features, test_labels, batch_size):\n",
    "            test_batch_acc_total += sess.run(\n",
    "                loaded_acc,\n",
    "                feed_dict={loaded_x: train_feature_batch, loaded_y: train_label_batch, loaded_keep_prob: 1.0})\n",
    "            test_batch_count += 1\n",
    "\n",
    "        print('Testing Accuracy: {}\\n'.format(test_batch_acc_total/test_batch_count))\n",
    "\n",
    "        # Print Random Samples\n",
    "        random_test_features, random_test_labels = tuple(zip(*random.sample(list(zip(test_features, test_labels)), n_samples)))\n",
    "        random_test_predictions = sess.run(\n",
    "            tf.nn.top_k(tf.nn.softmax(loaded_logits), top_n_predictions),\n",
    "            feed_dict={loaded_x: random_test_features, loaded_y: random_test_labels, loaded_keep_prob: 1.0})\n",
    "        helper.display_image_predictions(random_test_features, random_test_labels, random_test_predictions)\n",
    "\n",
    "\n",
    "test_model()"
   ]
  },
  {
   "cell_type": "markdown",
   "metadata": {},
   "source": [
    "## Why 50-70% Accuracy?\n",
    "You might be wondering why you can't get an accuracy any higher. First things first, 50% isn't bad for a simple CNN.  Pure guessing would get you 10% accuracy. However, you might notice people are getting scores [well above 70%](http://rodrigob.github.io/are_we_there_yet/build/classification_datasets_results.html#43494641522d3130).  That's because we haven't taught you all there is to know about neural networks. We still need to cover a few more techniques.\n",
    "## Submitting This Project\n",
    "When submitting this project, make sure to run all the cells before saving the notebook.  Save the notebook file as \"dlnd_image_classification.ipynb\" and save it as a HTML file under \"File\" -> \"Download as\".  Include the \"helper.py\" and \"problem_unittests.py\" files in your submission."
   ]
  }
 ],
 "metadata": {
  "kernelspec": {
   "display_name": "Python 3",
   "language": "python",
   "name": "python3"
  },
  "language_info": {
   "codemirror_mode": {
    "name": "ipython",
    "version": 3
   },
   "file_extension": ".py",
   "mimetype": "text/x-python",
   "name": "python",
   "nbconvert_exporter": "python",
   "pygments_lexer": "ipython3",
   "version": "3.6.0"
  }
 },
 "nbformat": 4,
 "nbformat_minor": 0
}
